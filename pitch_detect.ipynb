{
 "cells": [
  {
   "cell_type": "code",
   "execution_count": null,
   "id": "5c6814f8",
   "metadata": {},
   "outputs": [],
   "source": [
    "#!pip install \"basic-pitch[all]\""
   ]
  },
  {
   "cell_type": "code",
   "execution_count": 12,
   "id": "b382cc4a",
   "metadata": {},
   "outputs": [
    {
     "name": "stderr",
     "output_type": "stream",
     "text": [
      "scikit-learn version 1.7.1 is not supported. Minimum required version: 0.17. Maximum required version: 1.5.1. Disabling scikit-learn conversion API.\n",
      "WARNING:root:tflite-runtime is not installed. If you plan to use a TFLite Model, reinstall basic-pitch with `pip install 'basic-pitch tflite-runtime'` or `pip install 'basic-pitch[tf]'\n",
      "WARNING:root:onnxruntime is not installed. If you plan to use an ONNX Model, reinstall basic-pitch with `pip install 'basic-pitch[onnx]'`\n",
      "WARNING:root:Tensorflow is not installed. If you plan to use a TF Saved Model, reinstall basic-pitch with `pip install 'basic-pitch[tf]'`\n"
     ]
    }
   ],
   "source": [
    "from basic_pitch.inference import predict\n",
    "from basic_pitch import ICASSP_2022_MODEL_PATH"
   ]
  },
  {
   "cell_type": "code",
   "execution_count": 13,
   "id": "5069b133",
   "metadata": {},
   "outputs": [
    {
     "name": "stdout",
     "output_type": "stream",
     "text": [
      "Predicting MIDI for test.wav...\n",
      "isfinite: True\n",
      "shape: (1, 43844, 1)\n",
      "dtype: float32\n",
      "isfinite: True\n",
      "shape: (1, 43844, 1)\n",
      "dtype: float32\n",
      "isfinite: True\n",
      "shape: (1, 43844, 1)\n",
      "dtype: float32\n",
      "isfinite: True\n",
      "shape: (1, 43844, 1)\n",
      "dtype: float32\n",
      "[(4.774268480725623, 4.960028117913832, 58, 0.8089292, [1, 1, 1, 1, 1, 1, 1, 1, 1, 1, 1, 1, 1, 1, 1, 1]), (4.774268480725623, 4.960028117913832, 46, 0.5512048, [1, 1, 1, 1, 1, 1, 1, 1, 1, 1, 1, 1, 1, 1, 1, 1]), (4.042839909297052, 4.774268480725623, 46, 0.61844885, [0, 0, 0, 1, 1, 1, 1, 1, 1, 1, 1, 1, 1, 1, 1, 1, 1, 0, 0, 0, 0, 0, 0, 0, 0, 0, 0, 0, 1, 1, 1, 1, 1, 1, 1, 1, 1, 1, 0, 0, 0, 0, 0, 0, 0, 0, 0, 0, 0, 0, 1, 1, 0, 0, 0, 0, 0, 0, 0, 0, 0, 0, 1]), (3.9963999999999995, 4.774268480725623, 58, 0.7665925, [1, 1, 1, 1, 1, 1, 1, 1, 1, 1, 1, 1, 1, 1, 1, 1, 1, 1, 1, 1, 1, 1, 1, 1, 1, 1, 1, 1, 1, 1, 1, 1, 1, 1, 1, 1, 1, 1, 1, 1, 1, 1, 1, 1, 1, 1, 1, 1, 1, 1, 1, 1, 1, 1, 1, 1, 1, 1, 1, 1, 1, 1, 1, 1, 1, 1, 1]), (3.7745265306122446, 3.9486761904761902, 41, 0.6176554, [0, 1, 1, 1, 1, 1, 1, 1, 1, 1, 1, 1, 1, 1, 1]), (3.0895378684807255, 3.7745265306122446, 41, 0.70595574, [1, 1, 1, 1, 1, 1, 1, 1, 1, 1, 1, 1, 1, 1, 1, 1, 1, 1, 0, 0, 1, 1, 1, 1, 1, 1, 1, 1, 1, 1, 1, 1, 1, 1, 1, 1, 1, 0, 0, 0, 0, 0, 1, 1, 1, 1, 1, 1, 0, 0, 0, 0, 0, 0, 0, 0, 0, 0, 0]), (3.0082680272108844, 4.008009977324263, 65, 0.582889, [1, 1, 1, 1, 1, 1, 1, 1, 1, 1, 1, 1, 1, 1, 1, 1, 1, 1, 1, 1, 1, 1, 1, 1, 1, 1, 1, 1, 1, 1, 1, 1, 1, 1, 1, 1, 1, 1, 1, 1, 1, 1, 1, 1, 1, 1, 1, 1, 1, 1, 1, 1, 1, 2, 1, 1, 1, 1, 1, 1, 1, 1, 1, 1, 1, 1, 1, 1, 1, 1, 1, 1, 1, 1, 1, 1, 1, 1, 1, 1, 1, 1, 1, 1, 1, 1, 1]), (2.7992884353741494, 2.961828117913832, 55, 0.5274591, [1, 1, 1, 0, 0, 0, 0, 0, 1, 1, 1, 1, 1, 1]), (2.26522947845805, 2.4858190476190476, 72, 0.51700044, [1, 1, 1, 1, 1, 1, 1, 1, 1, 1, 1, 1, 1, 1, 1, 1, 1, 1, 1]), (2.26522947845805, 2.4393791383219954, 60, 0.38537565, [1, 1, 1, 1, 1, 1, 1, 1, 1, 1, 1, 1, 1, 1, 1]), (2.009809977324263, 2.4742090702947843, 76, 0.5931468, [1, 1, 1, 1, 1, 1, 1, 1, 1, 1, 1, 1, 1, 1, 1, 1, 1, 1, 1, 1, 1, 1, 1, 1, 1, 1, 1, 1, 1, 1, 1, 1, 1, 1, 1, 1, 1, 1, 1, 1]), (1.9981999999999998, 2.4742090702947843, 79, 0.5177218, [1, 1, 1, 1, 1, 1, 1, 1, 1, 1, 1, 1, 1, 1, 1, 1, 1, 1, 1, 1, 1, 1, 1, 1, 1, 1, 1, 1, 1, 1, 1, 1, 1, 1, 1, 1, 1, 1, 1, 1, 1]), (1.9981999999999998, 2.26522947845805, 72, 0.6101357, [1, 1, 1, 1, 1, 1, 1, 1, 1, 1, 1, 1, 1, 1, 1, 1, 1, 1, 1, 1, 1, 1, 1]), (1.787936507936508, 1.9620861678004535, 56, 0.61292404, [1, 1, 1, 1, 1, 0, 0, 0, 0, 0, 0, 0, 0, 0, 0]), (1.509297052154195, 1.787936507936508, 56, 0.32094344, [1, 1, 1, 1, 1, 1, 1, 1, 0, 0, 0, 0, 0, 0, 0, 0, 0, 0, 1, 1, 1, 1, 1, 1]), (1.0216780045351475, 1.4512471655328798, 80, 0.42281407, [-2, 1, 1, 1, 1, 1, 1, 1, 1, 1, 1, 1, 1, 1, 1, 1, 1, 1, 1, 1, 1, 1, 1, 1, 1, 1, 1, 1, 1, 1, 1, 1, 1, 1, 1, 1, 1]), (1.0100680272108844, 1.6486167800453515, 76, 0.5807369, [1, 1, 1, 1, 1, 1, 1, 1, 1, 1, 1, 1, 1, 1, 1, 1, 1, 1, 1, 1, 1, 1, 1, 1, 1, 1, 1, 1, 1, 1, 1, 1, 1, 1, 1, 1, 1, 1, 1, 1, 1, 1, 1, -2, -2, 1, 1, 1, 1, 1, 1, 1, 1, 1, 1]), (1.0100680272108844, 1.1609977324263039, 45, 0.34998158, [1, 1, 1, 1, 1, 1, 1, 1, 1, 1, 1, 1, 1]), (0.9984580498866213, 1.6718367346938776, 73, 0.5433779, [1, 1, 1, 1, 1, 1, 1, 1, 1, 1, 1, 1, 1, 1, 1, 1, 1, 1, 1, 1, 1, 1, 1, 1, 1, 1, 1, 1, 1, 1, 1, 1, 1, 1, 1, 1, 1, 1, 1, 1, 1, 1, 1, 1, 1, 1, 1, 1, 1, 1, 1, 1, 1, 1, 1, 1, 1, 1]), (0.7546485260770975, 0.9984580498866213, 79, 0.5633612, [1, 1, 1, 1, 1, 1, 1, 1, 1, 1, 1, 1, 1, 1, 1, 1, 1, 1, 1, 1, 1]), (0.7546485260770975, 1.0100680272108844, 76, 0.636896, [1, 1, 1, 1, 1, 1, 1, 1, 1, 1, 1, 1, 1, 1, 1, 1, 1, 1, 1, 1, 1, 1]), (0.7546485260770975, 0.9868480725623583, 72, 0.5978419, [1, 1, 1, 1, 1, 1, 1, 1, 1, 1, 1, 1, 1, 1, 1, 1, 1, 1, 1, 1]), (0.4295691609977324, 0.5688888888888889, 57, 0.2845287, [1, 1, 1, 1, 1, 1, 1, 1, -2, -2, -2, -2]), (0.26702947845804986, 0.4876190476190476, 79, 0.53539246, [1, 1, 1, 1, 1, 1, 1, 1, 1, 1, 1, 1, 1, 1, 1, 1, 1, 1, 1]), (0.26702947845804986, 0.4876190476190476, 72, 0.57844853, [1, 1, 1, 1, 1, 1, 1, 1, 1, 1, 1, 1, 1, 1, 1, 1, 1, 1, 1]), (0.25541950113378686, 0.47600907029478456, 60, 0.46361417, [0, 1, 1, 1, 1, 1, 1, 1, 1, 1, 1, 1, 1, 1, 1, 1, 1, 1, 1]), (0.2438095238095238, 0.3947392290249433, 45, 0.3174224, [0, 0, 2, 2, 2, 2, 2, 2, 2, 2, 2, 2, 2]), (0.011609977324263039, 0.26702947845804986, 79, 0.7205495, [1, 1, 1, 1, 1, 1, 1, 1, 1, 1, 1, 1, 1, 1, 1, 1, 1, 1, 1, 1, 1, 1]), (0.011609977324263039, 0.47600907029478456, 76, 0.64949334, [1, 1, 1, 1, 1, 1, 1, 1, 1, 1, 1, 1, 1, 1, 1, 1, 1, 1, 1, 1, 1, 1, 1, 1, 1, 1, 1, 1, 1, 1, 1, 1, 1, 1, 1, 1, 1, 1, 1, 1]), (0.011609977324263039, 0.26702947845804986, 72, 0.68862414, [1, 1, 1, 1, 1, 1, 1, 1, 1, 1, 1, 1, 1, 1, 1, 1, 1, 1, 1, 1, 1, 1]), (3.1011478458049884, 3.9602861678004535, 53, 0.4998874, [1, 1, 1, 1, 1, 1, 1, 1, 1, 1, 1, 1, 1, 1, 1, 1, 1, 1, 1, 1, 1, 1, 1, 1, 1, 1, 1, 1, 1, 1, 1, 1, 1, 1, 1, 1, 1, 1, 1, 1, 1, 1, 1, 1, 1, 1, 1, 1, 1, 1, 1, 1, 1, 1, 1, 1, 1, 1, 1, 1, 1, 1, 1, 1, 1, 1, 1, 1, 1, 1, 1, 1, 1, 1]), (1.8343764172335602, 1.9981999999999998, 76, 0.46771508, [1, 1, 1, 1, 1, 1, 1, 1, 1, 1, 1, 1, 1, 1, 1]), (4.367919274376417, 4.739438548752834, 70, 0.4545523, [1, 1, 1, 1, 1, 1, 1, 1, 1, 1, 1, 1, 1, 1, 1, 1, 1, 1, 1, 1, 1, 1, 1, 1, 1, 1, 1, 1, 1, 1, 1, 1]), (3.588766893424036, 3.9718961451247163, 77, 0.3966421, [1, 1, 1, 1, 1, 1, 1, 1, 1, 1, 1, 1, 1, 1, 1, 1, 1, 1, 1, 1, 1, 1, 1, 1, 1, 1, 1, 1, 1, 1, 1, 1, 1]), (3.0663179138321994, 3.403007256235828, 77, 0.33416158, [1, 1, 1, 1, 1, 1, 1, 1, 1, 1, 1, 1, 1, 1, 1, 1, 1, 1, 1, 1, 1, 1, 1, 1, 1, 1, 1, 1, 1]), (4.066059863945578, 4.518848979591836, 82, 0.32806334, [1, 1, 1, 1, 1, 1, 1, 1, 1, 1, 1, 1, 1, 1, 1, 1, 1, 1, 1, 1, 1, 1, 1, 1, 1, 1, 1, 1, 1, 1, 1, 1, 1, 1, 1, 1, 1, 1, 1]), (1.2770975056689342, 1.4164172335600906, 56, 0.33111987, [0, 0, 0, 0, 0, 0, 0, 0, 0, 0, 0, 0])]\n"
     ]
    }
   ],
   "source": [
    "# Reemplaza con la ruta de tu archivo de audio\n",
    "audio_file_path = \"test.wav\"\n",
    "\n",
    "# Realiza la predicción\n",
    "model_output, midi_data, note_events = predict(audio_file_path, ICASSP_2022_MODEL_PATH)\n",
    "\n",
    "# Los resultados incluyen:\n",
    "# midi_data: El archivo MIDI transcrito.\n",
    "# note_events: Una lista de eventos de notas (frecuencia, inicio, fin, etc.).\n",
    "print(note_events)"
   ]
  },
  {
   "cell_type": "code",
   "execution_count": 19,
   "id": "d8255e5f",
   "metadata": {},
   "outputs": [
    {
     "name": "stdout",
     "output_type": "stream",
     "text": [
      "[58, 46, 46, 58, 41, 41, 65, 55, 72, 60, 76, 79, 72, 56, 56, 80, 76, 45, 73, 79, 76, 72, 57, 79, 72, 60, 45, 79, 76, 72, 53, 76, 70, 77, 77, 82, 56]\n"
     ]
    }
   ],
   "source": [
    "# Extraer solo las notas MIDI de la lista\n",
    "midi_notes = [event[2] for event in note_events]\n",
    "print(midi_notes)"
   ]
  },
  {
   "cell_type": "code",
   "execution_count": 20,
   "id": "0113a2e9",
   "metadata": {},
   "outputs": [
    {
     "name": "stdout",
     "output_type": "stream",
     "text": [
      "[(72, 5)]\n"
     ]
    }
   ],
   "source": [
    "from collections import Counter\n",
    "\n",
    "# Usamos la lista 'midi_notes' que extrajimos en el paso anterior\n",
    "midi_notes = [58, 46, 46, 58, 41, 41, 65, 55, 72, 60, 76, 79, 72, 56, 56, 80, 76, 45, 73, 79, 76, 72, 57, 79, 72, 60, 45, 79, 76, 72, 53, 76, 70, 77, 77, 82, 56]\n",
    "\n",
    "# Contar la frecuencia de cada nota\n",
    "note_counts = Counter(midi_notes)\n",
    "\n",
    "# Obtener la nota más común\n",
    "most_common_note = note_counts.most_common(1)\n",
    "\n",
    "print(most_common_note)\n",
    "# Resultado: [(76, 5)] -> La nota 76 se repitió 5 veces."
   ]
  },
  {
   "cell_type": "code",
   "execution_count": 23,
   "id": "e2702a47",
   "metadata": {},
   "outputs": [],
   "source": [
    "# Mapeo de números de pitch class a nombres de notas\n",
    "PITCH_CLASSES = [\n",
    "    \"C\", \"C#\", \"D\", \"D#\", \"E\", \"F\", \n",
    "    \"F#\", \"G\", \"G#\", \"A\", \"A#\", \"B\"\n",
    "]"
   ]
  },
  {
   "cell_type": "code",
   "execution_count": 31,
   "id": "ea3abafa",
   "metadata": {},
   "outputs": [
    {
     "name": "stdout",
     "output_type": "stream",
     "text": [
      "La nota MIDI más común es: [(72, 5)] (aparece 5 veces)\n",
      "Su pitch class es: C\n"
     ]
    }
   ],
   "source": [
    "# 5. Convertir el número MIDI a pitch class\n",
    "pitch_class_number = most_common_note[0][0] % 12\n",
    "pitch_class_name = PITCH_CLASSES[pitch_class_number]\n",
    "\n",
    "print(f\"La nota MIDI más común es: {most_common_note} (aparece {most_common_note[0][1]} veces)\")\n",
    "print(f\"Su pitch class es: {pitch_class_name}\")"
   ]
  },
  {
   "cell_type": "markdown",
   "id": "5d4a0c76",
   "metadata": {},
   "source": [
    "---"
   ]
  },
  {
   "cell_type": "code",
   "execution_count": 48,
   "id": "8529c5bd",
   "metadata": {},
   "outputs": [
    {
     "name": "stdout",
     "output_type": "stream",
     "text": [
      "Las 5 notas más comunes son:\n",
      "  - Nota: C (MIDI: 72) | Frecuencia: 5 veces\n",
      "  - Nota: E (MIDI: 76) | Frecuencia: 5 veces\n",
      "  - Nota: G (MIDI: 79) | Frecuencia: 4 veces\n",
      "  - Nota: G# (MIDI: 56) | Frecuencia: 3 veces\n",
      "  - Nota: A# (MIDI: 58) | Frecuencia: 2 veces\n"
     ]
    }
   ],
   "source": [
    "k = 5 # number of most common notes\n",
    "\n",
    "# Extract MIDI numbers from the note events\n",
    "midi_notes = [int(event[2]) for event in note_events]\n",
    "\n",
    "# Count the frequency of each MIDI note\n",
    "note_counts = Counter(midi_notes)\n",
    "\n",
    "# Get the top k most common notes\n",
    "top_k_notes = note_counts.most_common(k)\n",
    "\n",
    "results = []\n",
    "print(f\"Las {k} notas más comunes son:\")\n",
    "for note_midi, count in top_k_notes:\n",
    "    # Convert MIDI number to pitch class\n",
    "    pitch_class_number = note_midi % 12\n",
    "    pitch_class_name = PITCH_CLASSES[pitch_class_number]\n",
    "    \n",
    "    results.append((pitch_class_name, note_midi, count))\n",
    "    print(f\"  - Nota: {pitch_class_name} (MIDI: {note_midi}) | Frecuencia: {count} veces\")\n",
    "    \n"
   ]
  },
  {
   "cell_type": "code",
   "execution_count": 70,
   "id": "4abd34e4",
   "metadata": {},
   "outputs": [],
   "source": [
    "def find_chord_from_notes(notes):\n",
    "    \"\"\"\n",
    "    Identifies a major or minor chord from a list of notes.\n",
    "\n",
    "    Args:\n",
    "        notes (list): A list of three MIDI numbers.\n",
    "\n",
    "    Returns:\n",
    "        str: The name of the chord if a match is found, otherwise \"No match\".\n",
    "    \"\"\"\n",
    "    # Sort notes for consistent interval calculation\n",
    "    notes.sort()\n",
    "    \n",
    "    root_note = notes[0]\n",
    "    second_note = notes[1]\n",
    "    third_note = notes[2]\n",
    "\n",
    "    # Calculate intervals in half-steps (semitones)\n",
    "    interval_1 = second_note - root_note\n",
    "    interval_2 = third_note - second_note\n",
    "\n",
    "    # Check for a major chord (4, 3)\n",
    "    if interval_1 == 4 and interval_2 == 3:\n",
    "        return f\"{get_pitch_class_name(root_note)} Major\"\n",
    "\n",
    "    # Check for a minor chord (3, 4)\n",
    "    if interval_1 == 3 and interval_2 == 4:\n",
    "        return f\"{get_pitch_class_name(root_note)} Minor\"\n",
    "\n",
    "    return None\n",
    "\n",
    "def get_pitch_class_name(midi_num):\n",
    "    \"\"\"Converts a MIDI number to its pitch class name.\"\"\"\n",
    "    PITCH_CLASSES = [\"C\", \"C#\", \"D\", \"D#\", \"E\", \"F\", \n",
    "                     \"F#\", \"G\", \"G#\", \"A\", \"A#\", \"B\"]\n",
    "    return PITCH_CLASSES[midi_num % 12]"
   ]
  },
  {
   "cell_type": "code",
   "execution_count": 53,
   "id": "e69608ee",
   "metadata": {},
   "outputs": [
    {
     "data": {
      "text/plain": [
       "[('C', 72, 5), ('E', 76, 5), ('G', 79, 4), ('G#', 56, 3), ('A#', 58, 2)]"
      ]
     },
     "execution_count": 53,
     "metadata": {},
     "output_type": "execute_result"
    }
   ],
   "source": [
    "results"
   ]
  },
  {
   "cell_type": "code",
   "execution_count": 64,
   "id": "a3149baa",
   "metadata": {},
   "outputs": [
    {
     "name": "stdout",
     "output_type": "stream",
     "text": [
      "C: 72\n",
      "E: 76\n",
      "G: 79\n",
      "G#: 56\n",
      "A#: 58\n",
      "[72, 76, 79, 56, 58]\n"
     ]
    }
   ],
   "source": [
    "options = []\n",
    "for note, midi, n in results:\n",
    "    print(note, midi, sep=\": \")\n",
    "    options.append(midi)\n",
    "print(options)"
   ]
  },
  {
   "cell_type": "code",
   "execution_count": null,
   "id": "d4cdcaeb",
   "metadata": {},
   "outputs": [],
   "source": [
    "from itertools import combinations"
   ]
  },
  {
   "cell_type": "code",
   "execution_count": 65,
   "id": "cd30162f",
   "metadata": {},
   "outputs": [
    {
     "data": {
      "text/plain": [
       "[(72, 76, 79),\n",
       " (72, 76, 56),\n",
       " (72, 76, 58),\n",
       " (72, 79, 56),\n",
       " (72, 79, 58),\n",
       " (72, 56, 58),\n",
       " (76, 79, 56),\n",
       " (76, 79, 58),\n",
       " (76, 56, 58),\n",
       " (79, 56, 58)]"
      ]
     },
     "execution_count": 65,
     "metadata": {},
     "output_type": "execute_result"
    }
   ],
   "source": [
    "chord_options = list(combinations(options, 3))\n",
    "chord_options"
   ]
  },
  {
   "cell_type": "code",
   "execution_count": 72,
   "id": "eecfc754",
   "metadata": {},
   "outputs": [
    {
     "name": "stdout",
     "output_type": "stream",
     "text": [
      "Possible tonalities:\n",
      "C Major\n"
     ]
    }
   ],
   "source": [
    "print(\"Possible tonalities:\")\n",
    "for chord in chord_options:\n",
    "    found_chord = find_chord_from_notes(list(chord))\n",
    "    if found_chord is not None:\n",
    "        print(found_chord)"
   ]
  }
 ],
 "metadata": {
  "kernelspec": {
   "display_name": ".venv",
   "language": "python",
   "name": "python3"
  },
  "language_info": {
   "codemirror_mode": {
    "name": "ipython",
    "version": 3
   },
   "file_extension": ".py",
   "mimetype": "text/x-python",
   "name": "python",
   "nbconvert_exporter": "python",
   "pygments_lexer": "ipython3",
   "version": "3.11.7"
  }
 },
 "nbformat": 4,
 "nbformat_minor": 5
}
