{
 "cells": [
  {
   "cell_type": "code",
   "execution_count": null,
   "id": "5c6814f8",
   "metadata": {},
   "outputs": [],
   "source": [
    "#!pip install \"basic-pitch[all]\""
   ]
  },
  {
   "cell_type": "code",
   "execution_count": 1,
   "id": "b382cc4a",
   "metadata": {},
   "outputs": [
    {
     "name": "stderr",
     "output_type": "stream",
     "text": [
      "scikit-learn version 1.7.1 is not supported. Minimum required version: 0.17. Maximum required version: 1.5.1. Disabling scikit-learn conversion API.\n",
      "WARNING:root:tflite-runtime is not installed. If you plan to use a TFLite Model, reinstall basic-pitch with `pip install 'basic-pitch tflite-runtime'` or `pip install 'basic-pitch[tf]'\n",
      "WARNING:root:onnxruntime is not installed. If you plan to use an ONNX Model, reinstall basic-pitch with `pip install 'basic-pitch[onnx]'`\n",
      "WARNING:root:Tensorflow is not installed. If you plan to use a TF Saved Model, reinstall basic-pitch with `pip install 'basic-pitch[tf]'`\n"
     ]
    }
   ],
   "source": [
    "from basic_pitch.inference import predict\n",
    "from basic_pitch import ICASSP_2022_MODEL_PATH"
   ]
  },
  {
   "cell_type": "code",
   "execution_count": 2,
   "id": "5069b133",
   "metadata": {},
   "outputs": [
    {
     "name": "stdout",
     "output_type": "stream",
     "text": [
      "Predicting MIDI for 2test.wav...\n",
      "isfinite: True\n",
      "shape: (1, 43844, 1)\n",
      "dtype: float32\n",
      "isfinite: True\n",
      "shape: (1, 43844, 1)\n",
      "dtype: float32\n",
      "isfinite: True\n",
      "shape: (1, 43844, 1)\n",
      "dtype: float32\n",
      "isfinite: True\n",
      "shape: (1, 43844, 1)\n",
      "dtype: float32\n",
      "isfinite: True\n",
      "shape: (1, 43844, 1)\n",
      "dtype: float32\n",
      "isfinite: True\n",
      "shape: (1, 43844, 1)\n",
      "dtype: float32\n",
      "isfinite: True\n",
      "shape: (1, 43844, 1)\n",
      "dtype: float32\n",
      "[(np.float64(8.654568707482992), np.float64(8.863548299319728), np.int64(64), np.float32(0.40564388), [np.int64(1), np.int64(1), np.int64(1), np.int64(1), np.int64(1), np.int64(1), np.int64(1), np.int64(1), np.int64(1), np.int64(1), np.int64(1), np.int64(1), np.int64(1), np.int64(1), np.int64(1), np.int64(1), np.int64(1), np.int64(1)]), (np.float64(8.631348752834466), np.float64(8.956428117913832), np.int64(61), np.float32(0.3855886), [np.int64(1), np.int64(1), np.int64(1), np.int64(1), np.int64(1), np.int64(1), np.int64(1), np.int64(1), np.int64(1), np.int64(1), np.int64(1), np.int64(1), np.int64(1), np.int64(1), np.int64(1), np.int64(1), np.int64(1), np.int64(1), np.int64(1), np.int64(1), np.int64(1), np.int64(1), np.int64(1), np.int64(1), np.int64(1), np.int64(1), np.int64(1), np.int64(1)]), (np.float64(8.433979138321995), np.float64(8.584908843537415), np.int64(45), np.float32(0.59435314), [np.int64(1), np.int64(1), np.int64(1), np.int64(1), np.int64(1), np.int64(1), np.int64(1), np.int64(1), np.int64(1), np.int64(1), np.int64(1), np.int64(1), np.int64(1)]), (np.float64(8.306269387755101), np.float64(8.817108390022675), np.int64(33), np.float32(0.47081912), [np.int64(1), np.int64(1), np.int64(1), np.int64(1), np.int64(1), np.int64(1), np.int64(1), np.int64(1), np.int64(1), np.int64(2), np.int64(2), np.int64(2), np.int64(2), np.int64(1), np.int64(1), np.int64(1), np.int64(1), np.int64(1), np.int64(1), np.int64(1), np.int64(1), np.int64(1), np.int64(1), np.int64(1), np.int64(1), np.int64(1), np.int64(1), np.int64(1), np.int64(1), np.int64(1), np.int64(1), np.int64(1), np.int64(1), np.int64(1), np.int64(1), np.int64(1), np.int64(1), np.int64(1), np.int64(1), np.int64(1), np.int64(1), np.int64(1), np.int64(1), np.int64(1)]), (np.float64(8.201779591836734), np.float64(8.433979138321995), np.int64(45), np.float32(0.4047205), [np.int64(1), np.int64(1), np.int64(1), np.int64(1), np.int64(1), np.int64(1), np.int64(1), np.int64(1), np.int64(1), np.int64(1), np.int64(1), np.int64(1), np.int64(1), np.int64(1), np.int64(1), np.int64(1), np.int64(1), np.int64(1), np.int64(1), np.int64(1)]), (np.float64(7.95797006802721), np.float64(8.306269387755101), np.int64(33), np.float32(0.6478916), [np.int64(1), np.int64(1), np.int64(1), np.int64(1), np.int64(1), np.int64(1), np.int64(1), np.int64(1), np.int64(1), np.int64(1), np.int64(1), np.int64(1), np.int64(1), np.int64(1), np.int64(1), np.int64(1), np.int64(1), np.int64(1), np.int64(1), np.int64(1), np.int64(1), np.int64(1), np.int64(1), np.int64(1), np.int64(1), np.int64(1), np.int64(1), np.int64(1), np.int64(1), np.int64(1)]), (np.float64(7.817366439909297), np.float64(8.201779591836734), np.int64(45), np.float32(0.31231338), [np.int64(2), np.int64(2), np.int64(2), np.int64(2), np.int64(2), np.int64(1), np.int64(1), np.int64(-3), np.int64(-3), np.int64(-3), np.int64(-3), np.int64(1), np.int64(1), np.int64(1), np.int64(1), np.int64(1), np.int64(1), np.int64(1), np.int64(1), np.int64(1), np.int64(1), np.int64(1), np.int64(1), np.int64(1), np.int64(1), np.int64(1), np.int64(1), np.int64(1), np.int64(1), np.int64(1), np.int64(1), np.int64(1), np.int64(1), np.int64(1)]), (np.float64(7.7128766439909295), np.float64(7.95797006802721), np.int64(33), np.float32(0.37169406), [np.int64(2), np.int64(2), np.int64(2), np.int64(2), np.int64(2), np.int64(2), np.int64(2), np.int64(2), np.int64(2), np.int64(2), np.int64(2), np.int64(2), np.int64(1), np.int64(1), np.int64(1), np.int64(1), np.int64(1), np.int64(1), np.int64(1), np.int64(1), np.int64(1), np.int64(1)]), (np.float64(7.202037641723356), np.float64(7.341357369614513), np.int64(63), np.float32(0.43587756), [np.int64(1), np.int64(0), np.int64(0), np.int64(1), np.int64(1), np.int64(1), np.int64(1), np.int64(1), np.int64(1), np.int64(1), np.int64(1), np.int64(1)]), (np.float64(7.039497959183674), np.float64(7.202037641723356), np.int64(63), np.float32(0.39176422), [np.int64(1), np.int64(1), np.int64(1), np.int64(1), np.int64(1), np.int64(1), np.int64(1), np.int64(1), np.int64(1), np.int64(1), np.int64(1), np.int64(1), np.int64(1), np.int64(1)]), (np.float64(7.039497959183674), np.float64(7.387797278911565), np.int64(47), np.float32(0.51831514), [np.int64(3), np.int64(1), np.int64(1), np.int64(1), np.int64(1), np.int64(1), np.int64(1), np.int64(1), np.int64(1), np.int64(1), np.int64(1), np.int64(1), np.int64(1), np.int64(1), np.int64(1), np.int64(1), np.int64(1), np.int64(1), np.int64(1), np.int64(1), np.int64(1), np.int64(1), np.int64(1), np.int64(1), np.int64(1), np.int64(1), np.int64(1), np.int64(1), np.int64(1), np.int64(1)]), (np.float64(6.969838095238095), np.float64(7.132377777777778), np.int64(38), np.float32(0.32471675), [np.int64(1), np.int64(1), np.int64(1), np.int64(1), np.int64(1), np.int64(1), np.int64(1), np.int64(1), np.int64(1), np.int64(1), np.int64(1), np.int64(1), np.int64(1), np.int64(1)]), (np.float64(6.784078458049887), np.float64(7.039497959183674), np.int64(64), np.float32(0.51937366), [np.int64(-1), np.int64(0), np.int64(0), np.int64(0), np.int64(0), np.int64(1), np.int64(1), np.int64(1), np.int64(3), np.int64(3), np.int64(3), np.int64(3), np.int64(2), np.int64(1), np.int64(1), np.int64(1), np.int64(1), np.int64(0), np.int64(0), np.int64(0), np.int64(0), np.int64(0)]), (np.float64(6.772468480725624), np.float64(6.969838095238095), np.int64(48), np.float32(0.5492329), [np.int64(1), np.int64(1), np.int64(1), np.int64(1), np.int64(1), np.int64(1), np.int64(1), np.int64(1), np.int64(1), np.int64(1), np.int64(1), np.int64(1), np.int64(1), np.int64(1), np.int64(1), np.int64(1), np.int64(1)]), (np.float64(6.7260285714285715), np.float64(6.876958276643991), np.int64(67), np.float32(0.48248023), [np.int64(1), np.int64(1), np.int64(1), np.int64(1), np.int64(1), np.int64(1), np.int64(1), np.int64(1), np.int64(1), np.int64(1), np.int64(1), np.int64(1), np.int64(1)]), (np.float64(6.6911986394557825), np.float64(6.888568253968254), np.int64(45), np.float32(0.3762875), [np.int64(1), np.int64(1), np.int64(1), np.int64(1), np.int64(1), np.int64(1), np.int64(1), np.int64(1), np.int64(1), np.int64(1), np.int64(1), np.int64(1), np.int64(1), np.int64(1), np.int64(1), np.int64(1), np.int64(1)]), (np.float64(6.633148752834467), np.float64(6.772468480725624), np.int64(48), np.float32(0.43924665), [np.int64(2), np.int64(2), np.int64(2), np.int64(2), np.int64(1), np.int64(1), np.int64(1), np.int64(1), np.int64(1), np.int64(1), np.int64(1), np.int64(1)]), (np.float64(6.331289342403628), np.float64(6.621538775510205), np.int64(38), np.float32(0.5486019), [np.int64(1), np.int64(1), np.int64(1), np.int64(1), np.int64(1), np.int64(1), np.int64(1), np.int64(1), np.int64(1), np.int64(1), np.int64(1), np.int64(1), np.int64(1), np.int64(1), np.int64(1), np.int64(1), np.int64(1), np.int64(1), np.int64(1), np.int64(1), np.int64(1), np.int64(1), np.int64(1), np.int64(1), np.int64(1)]), (np.float64(6.308069387755102), np.float64(6.49382902494331), np.int64(67), np.float32(0.5892859), [np.int64(1), np.int64(1), np.int64(1), np.int64(1), np.int64(1), np.int64(1), np.int64(2), np.int64(2), np.int64(2), np.int64(2), np.int64(2), np.int64(1), np.int64(0), np.int64(0), np.int64(0), np.int64(1)]), (np.float64(6.284849433106576), np.float64(6.64475873015873), np.int64(45), np.float32(0.37796605), [np.int64(1), np.int64(1), np.int64(1), np.int64(1), np.int64(1), np.int64(1), np.int64(1), np.int64(1), np.int64(1), np.int64(1), np.int64(1), np.int64(1), np.int64(1), np.int64(1), np.int64(1), np.int64(1), np.int64(1), np.int64(1), np.int64(1), np.int64(1), np.int64(1), np.int64(1), np.int64(1), np.int64(1), np.int64(1), np.int64(1), np.int64(1), np.int64(1), np.int64(1), np.int64(2), np.int64(2)]), (np.float64(6.215189569160998), np.float64(6.633148752834467), np.int64(50), np.float32(0.62344545), [np.int64(1), np.int64(1), np.int64(1), np.int64(1), np.int64(1), np.int64(1), np.int64(1), np.int64(1), np.int64(1), np.int64(1), np.int64(1), np.int64(1), np.int64(1), np.int64(1), np.int64(1), np.int64(1), np.int64(1), np.int64(1), np.int64(1), np.int64(1), np.int64(1), np.int64(1), np.int64(1), np.int64(1), np.int64(1), np.int64(1), np.int64(1), np.int64(1), np.int64(1), np.int64(1), np.int64(1), np.int64(1), np.int64(1), np.int64(1), np.int64(0), np.int64(0)]), (np.float64(6.1223097505668935), np.float64(6.284849433106576), np.int64(45), np.float32(0.4558509), [np.int64(1), np.int64(1), np.int64(1), np.int64(1), np.int64(1), np.int64(2), np.int64(2), np.int64(2), np.int64(2), np.int64(2), np.int64(2), np.int64(1), np.int64(1), np.int64(1)]), (np.float64(6.017819954648526), np.float64(6.1571396825396825), np.int64(64), np.float32(0.26958162), [np.int64(-1), np.int64(0), np.int64(0), np.int64(0), np.int64(0), np.int64(0), np.int64(1), np.int64(1), np.int64(2), np.int64(2), np.int64(2), np.int64(2)]), (np.float64(5.888826303854875), np.float64(6.11069977324263), np.int64(48), np.float32(0.46747917), [np.int64(1), np.int64(1), np.int64(1), np.int64(1), np.int64(1), np.int64(1), np.int64(1), np.int64(1), np.int64(1), np.int64(1), np.int64(1), np.int64(1), np.int64(1), np.int64(1), np.int64(1), np.int64(1), np.int64(1), np.int64(1), np.int64(1), np.int64(1)]), (np.float64(5.877216326530612), np.float64(6.099089795918368), np.int64(36), np.float32(0.42014655), [np.int64(0), np.int64(0), np.int64(1), np.int64(1), np.int64(1), np.int64(1), np.int64(1), np.int64(1), np.int64(0), np.int64(0), np.int64(0), np.int64(0), np.int64(0), np.int64(0), np.int64(1), np.int64(1), np.int64(1), np.int64(1), np.int64(1), np.int64(1)]), (np.float64(5.761116553287982), np.float64(5.935266213151928), np.int64(67), np.float32(0.3485012), [np.int64(-1), np.int64(1), np.int64(1), np.int64(2), np.int64(3), np.int64(1), np.int64(1), np.int64(1), np.int64(1), np.int64(1), np.int64(2), np.int64(2), np.int64(2), np.int64(2), np.int64(2)]), (np.float64(5.761116553287982), np.float64(6.006209977324263), np.int64(55), np.float32(0.33411464), [np.int64(0), np.int64(1), np.int64(1), np.int64(1), np.int64(1), np.int64(1), np.int64(2), np.int64(2), np.int64(1), np.int64(0), np.int64(1), np.int64(1), np.int64(1), np.int64(1), np.int64(1), np.int64(1), np.int64(1), np.int64(1), np.int64(1), np.int64(1), np.int64(1), np.int64(1)]), (np.float64(5.645016780045351), np.float64(5.888826303854875), np.int64(48), np.float32(0.33715555), [np.int64(0), np.int64(1), np.int64(1), np.int64(1), np.int64(1), np.int64(1), np.int64(1), np.int64(1), np.int64(1), np.int64(1), np.int64(1), np.int64(1), np.int64(1), np.int64(1), np.int64(1), np.int64(1), np.int64(1), np.int64(1), np.int64(1), np.int64(1), np.int64(1)]), (np.float64(5.319937414965986), np.float64(5.552136961451247), np.int64(36), np.float32(0.48559207), [np.int64(1), np.int64(1), np.int64(1), np.int64(1), np.int64(1), np.int64(1), np.int64(1), np.int64(1), np.int64(1), np.int64(1), np.int64(1), np.int64(1), np.int64(1), np.int64(1), np.int64(1), np.int64(1), np.int64(1), np.int64(1), np.int64(1), np.int64(1)]), (np.float64(5.122567800453514), np.float64(5.319937414965986), np.int64(36), np.float32(0.62248546), [np.int64(1), np.int64(1), np.int64(1), np.int64(1), np.int64(1), np.int64(1), np.int64(1), np.int64(1), np.int64(1), np.int64(1), np.int64(1), np.int64(1), np.int64(1), np.int64(1), np.int64(1), np.int64(1), np.int64(1)]), (np.float64(4.623338775510204), np.float64(5.122567800453514), np.int64(36), np.float32(0.6261615), [np.int64(1), np.int64(1), np.int64(1), np.int64(1), np.int64(1), np.int64(1), np.int64(1), np.int64(1), np.int64(1), np.int64(1), np.int64(1), np.int64(1), np.int64(1), np.int64(1), np.int64(1), np.int64(1), np.int64(1), np.int64(1), np.int64(1), np.int64(1), np.int64(1), np.int64(1), np.int64(1), np.int64(1), np.int64(1), np.int64(1), np.int64(1), np.int64(1), np.int64(1), np.int64(1), np.int64(1), np.int64(1), np.int64(1), np.int64(1), np.int64(1), np.int64(1), np.int64(1), np.int64(1), np.int64(1), np.int64(1), np.int64(1), np.int64(1), np.int64(1)]), (np.float64(4.472409070294784), np.float64(4.623338775510204), np.int64(36), np.float32(0.45555335), [np.int64(1), np.int64(1), np.int64(1), np.int64(1), np.int64(1), np.int64(1), np.int64(1), np.int64(1), np.int64(1), np.int64(1), np.int64(1), np.int64(1), np.int64(1)]), (np.float64(4.449189115646258), np.float64(5.308327437641723), np.int64(67), np.float32(0.433698), [np.int64(1), np.int64(1), np.int64(1), np.int64(1), np.int64(1), np.int64(1), np.int64(1), np.int64(1), np.int64(1), np.int64(1), np.int64(1), np.int64(1), np.int64(2), np.int64(2), np.int64(2), np.int64(2), np.int64(2), np.int64(2), np.int64(2), np.int64(2), np.int64(1), np.int64(1), np.int64(1), np.int64(1), np.int64(1), np.int64(1), np.int64(1), np.int64(1), np.int64(1), np.int64(1), np.int64(1), np.int64(1), np.int64(1), np.int64(1), np.int64(1), np.int64(1), np.int64(1), np.int64(1), np.int64(1), np.int64(1), np.int64(1), np.int64(2), np.int64(1), np.int64(1), np.int64(1), np.int64(1), np.int64(1), np.int64(1), np.int64(1), np.int64(1), np.int64(1), np.int64(1), np.int64(1), np.int64(1), np.int64(1), np.int64(1), np.int64(1), np.int64(1), np.int64(1), np.int64(1), np.int64(1), np.int64(1), np.int64(1), np.int64(1), np.int64(1), np.int64(1), np.int64(1), np.int64(1), np.int64(1), np.int64(1), np.int64(1), np.int64(1), np.int64(1), np.int64(1)]), (np.float64(4.449189115646258), np.float64(5.540526984126984), np.int64(48), np.float32(0.6150774), [np.int64(1), np.int64(1), np.int64(1), np.int64(1), np.int64(1), np.int64(1), np.int64(1), np.int64(1), np.int64(1), np.int64(1), np.int64(1), np.int64(1), np.int64(1), np.int64(1), np.int64(1), np.int64(1), np.int64(1), np.int64(1), np.int64(1), np.int64(1), np.int64(1), np.int64(1), np.int64(1), np.int64(1), np.int64(1), np.int64(1), np.int64(1), np.int64(1), np.int64(1), np.int64(1), np.int64(1), np.int64(1), np.int64(1), np.int64(1), np.int64(1), np.int64(1), np.int64(1), np.int64(1), np.int64(1), np.int64(1), np.int64(1), np.int64(1), np.int64(1), np.int64(1), np.int64(1), np.int64(1), np.int64(1), np.int64(1), np.int64(1), np.int64(1), np.int64(1), np.int64(1), np.int64(1), np.int64(1), np.int64(1), np.int64(1), np.int64(1), np.int64(1), np.int64(1), np.int64(1), np.int64(1), np.int64(1), np.int64(1), np.int64(1), np.int64(1), np.int64(1), np.int64(1), np.int64(1), np.int64(1), np.int64(1), np.int64(1), np.int64(1), np.int64(1), np.int64(1), np.int64(1), np.int64(1), np.int64(1), np.int64(1), np.int64(1), np.int64(1), np.int64(1), np.int64(1), np.int64(1), np.int64(1), np.int64(1), np.int64(1), np.int64(1), np.int64(1), np.int64(1), np.int64(1), np.int64(1), np.int64(1), np.int64(1), np.int64(1)]), (np.float64(4.158939682539683), np.float64(4.356309297052154), np.int64(47), np.float32(0.52056116), [np.int64(1), np.int64(1), np.int64(1), np.int64(1), np.int64(1), np.int64(1), np.int64(1), np.int64(1), np.int64(1), np.int64(1), np.int64(1), np.int64(1), np.int64(1), np.int64(1), np.int64(1), np.int64(1), np.int64(0)]), (np.float64(3.9138462585034013), np.float64(4.2634294784580495), np.int64(33), np.float32(0.3435845), [np.int64(2), np.int64(2), np.int64(2), np.int64(2), np.int64(2), np.int64(2), np.int64(2), np.int64(2), np.int64(2), np.int64(2), np.int64(2), np.int64(2), np.int64(2), np.int64(2), np.int64(2), np.int64(1), np.int64(1), np.int64(1), np.int64(1), np.int64(1), np.int64(1), np.int64(1), np.int64(1), np.int64(1), np.int64(1), np.int64(1), np.int64(1), np.int64(1), np.int64(1), np.int64(1), np.int64(1)]), (np.float64(3.6468167800453513), np.float64(3.902236281179138), np.int64(47), np.float32(0.51174724), [np.int64(1), np.int64(1), np.int64(1), np.int64(1), np.int64(1), np.int64(1), np.int64(1), np.int64(1), np.int64(1), np.int64(1), np.int64(1), np.int64(1), np.int64(1), np.int64(1), np.int64(1), np.int64(1), np.int64(1), np.int64(1), np.int64(1), np.int64(1), np.int64(1), np.int64(1)]), (np.float64(2.8225083900226755), np.float64(3.6468167800453513), np.int64(47), np.float32(0.6923724), [np.int64(1), np.int64(1), np.int64(1), np.int64(1), np.int64(1), np.int64(1), np.int64(1), np.int64(1), np.int64(1), np.int64(1), np.int64(1), np.int64(1), np.int64(1), np.int64(1), np.int64(1), np.int64(1), np.int64(1), np.int64(1), np.int64(1), np.int64(1), np.int64(1), np.int64(1), np.int64(1), np.int64(1), np.int64(1), np.int64(1), np.int64(1), np.int64(1), np.int64(1), np.int64(1), np.int64(1), np.int64(1), np.int64(1), np.int64(1), np.int64(1), np.int64(1), np.int64(1), np.int64(1), np.int64(1), np.int64(1), np.int64(1), np.int64(1), np.int64(1), np.int64(1), np.int64(1), np.int64(1), np.int64(1), np.int64(1), np.int64(1), np.int64(1), np.int64(1), np.int64(1), np.int64(1), np.int64(1), np.int64(1), np.int64(1), np.int64(1), np.int64(1), np.int64(1), np.int64(1), np.int64(1), np.int64(1), np.int64(1), np.int64(1), np.int64(1), np.int64(1), np.int64(1), np.int64(1), np.int64(1), np.int64(1), np.int64(1)]), (np.float64(2.7180185941043082), np.float64(2.880558276643991), np.int64(81), np.float32(0.5089104), [np.int64(-2), np.int64(1), np.int64(1), np.int64(1), np.int64(1), np.int64(1), np.int64(1), np.int64(1), np.int64(1), np.int64(1), np.int64(1), np.int64(1), np.int64(1), np.int64(2)]), (np.float64(2.7180185941043082), np.float64(2.857338321995465), np.int64(69), np.float32(0.53012913), [np.int64(-2), np.int64(-1), np.int64(1), np.int64(1), np.int64(1), np.int64(1), np.int64(1), np.int64(1), np.int64(1), np.int64(1), np.int64(1), np.int64(1)]), (np.float64(2.6831886621315193), np.float64(2.8225083900226755), np.int64(47), np.float32(0.6975992), [np.int64(1), np.int64(1), np.int64(1), np.int64(1), np.int64(1), np.int64(1), np.int64(1), np.int64(1), np.int64(1), np.int64(1), np.int64(1), np.int64(1)]), (np.float64(2.5670888888888888), np.float64(2.8225083900226755), np.int64(33), np.float32(0.50630015), [np.int64(1), np.int64(1), np.int64(1), np.int64(1), np.int64(1), np.int64(1), np.int64(1), np.int64(1), np.int64(1), np.int64(1), np.int64(1), np.int64(1), np.int64(1), np.int64(1), np.int64(1), np.int64(2), np.int64(1), np.int64(1), np.int64(1), np.int64(1), np.int64(1), np.int64(1)]), (np.float64(2.392939229024943), np.float64(2.5670888888888888), np.int64(33), np.float32(0.6345909), [np.int64(1), np.int64(1), np.int64(1), np.int64(1), np.int64(1), np.int64(1), np.int64(1), np.int64(1), np.int64(1), np.int64(1), np.int64(1), np.int64(1), np.int64(1), np.int64(1), np.int64(1)]), (np.float64(2.3813292517006803), np.float64(2.6831886621315193), np.int64(67), np.float32(0.50501895), [np.int64(1), np.int64(1), np.int64(1), np.int64(1), np.int64(1), np.int64(1), np.int64(1), np.int64(2), np.int64(4), np.int64(4), np.int64(4), np.int64(4), np.int64(4), np.int64(4), np.int64(2), np.int64(1), np.int64(1), np.int64(1), np.int64(1), np.int64(1), np.int64(1), np.int64(1), np.int64(2), np.int64(2), np.int64(2), np.int64(2)]), (np.float64(2.253619501133787), np.float64(2.392939229024943), np.int64(33), np.float32(0.718133), [np.int64(1), np.int64(1), np.int64(1), np.int64(1), np.int64(1), np.int64(1), np.int64(1), np.int64(1), np.int64(1), np.int64(1), np.int64(1), np.int64(1)]), (np.float64(2.1839596371882086), np.float64(2.369719274376417), np.int64(80), np.float32(0.2662598), [np.int64(1), np.int64(1), np.int64(2), np.int64(2), np.int64(2), np.int64(2), np.int64(2), np.int64(-1), np.int64(-1), np.int64(-1), np.int64(0), np.int64(1), np.int64(1), np.int64(1), np.int64(1), np.int64(1)]), (np.float64(2.1839596371882086), np.float64(2.369719274376417), np.int64(68), np.float32(0.28588563), [np.int64(-2), np.int64(-2), np.int64(2), np.int64(2), np.int64(2), np.int64(2), np.int64(-1), np.int64(-2), np.int64(-2), np.int64(-2), np.int64(-2), np.int64(-2), np.int64(0), np.int64(1), np.int64(1), np.int64(1)]), (np.float64(1.986590022675737), np.float64(2.1839596371882086), np.int64(66), np.float32(0.30791402), [np.int64(1), np.int64(1), np.int64(1), np.int64(1), np.int64(2), np.int64(2), np.int64(2), np.int64(2), np.int64(6), np.int64(6), np.int64(2), np.int64(2), np.int64(2), np.int64(1), np.int64(1), np.int64(2), np.int64(2)]), (np.float64(1.9853061224489796), np.float64(2.6831886621315193), np.int64(47), np.float32(0.56116664), [np.int64(2), np.int64(2), np.int64(2), np.int64(2), np.int64(2), np.int64(2), np.int64(2), np.int64(2), np.int64(1), np.int64(1), np.int64(1), np.int64(1), np.int64(1), np.int64(1), np.int64(1), np.int64(1), np.int64(1), np.int64(1), np.int64(1), np.int64(1), np.int64(1), np.int64(1), np.int64(1), np.int64(1), np.int64(1), np.int64(1), np.int64(1), np.int64(1), np.int64(1), np.int64(1), np.int64(1), np.int64(1), np.int64(1), np.int64(1), np.int64(1), np.int64(1), np.int64(1), np.int64(1), np.int64(1), np.int64(1), np.int64(1), np.int64(1), np.int64(1), np.int64(1), np.int64(1), np.int64(1), np.int64(1), np.int64(1), np.int64(1), np.int64(1), np.int64(1), np.int64(1), np.int64(1), np.int64(1), np.int64(1), np.int64(1), np.int64(1), np.int64(1), np.int64(1), np.int64(1), np.int64(1)]), (np.float64(1.7647165532879818), np.float64(1.9853061224489796), np.int64(47), np.float32(0.54074246), [np.int64(1), np.int64(1), np.int64(1), np.int64(1), np.int64(1), np.int64(1), np.int64(1), np.int64(1), np.int64(1), np.int64(1), np.int64(1), np.int64(1), np.int64(1), np.int64(1), np.int64(1), np.int64(1), np.int64(1), np.int64(2), np.int64(2)]), (np.float64(1.7531065759637188), np.float64(1.9040362811791383), np.int64(64), np.float32(0.44657406), [np.int64(3), np.int64(0), np.int64(0), np.int64(0), np.int64(0), np.int64(0), np.int64(1), np.int64(3), np.int64(3), np.int64(2), np.int64(2), np.int64(2), np.int64(2)]), (np.float64(1.6021768707482993), np.float64(1.7647165532879818), np.int64(47), np.float32(0.7200727), [np.int64(1), np.int64(2), np.int64(2), np.int64(2), np.int64(2), np.int64(2), np.int64(2), np.int64(2), np.int64(1), np.int64(1), np.int64(1), np.int64(1), np.int64(1), np.int64(1)]), (np.float64(1.5789569160997732), np.float64(1.7531065759637188), np.int64(65), np.float32(0.3165065), [np.int64(-1), np.int64(0), np.int64(0), np.int64(0), np.int64(0), np.int64(-1), np.int64(-1), np.int64(-1), np.int64(-1), np.int64(-1), np.int64(-1), np.int64(0), np.int64(1), np.int64(1), np.int64(1)]), (np.float64(1.4512471655328798), np.float64(1.6021768707482993), np.int64(47), np.float32(0.74307257), [np.int64(1), np.int64(1), np.int64(1), np.int64(1), np.int64(2), np.int64(1), np.int64(1), np.int64(1), np.int64(1), np.int64(1), np.int64(1), np.int64(1), np.int64(1)]), (np.float64(1.2190476190476192), np.float64(1.4512471655328798), np.int64(47), np.float32(0.68911314), [np.int64(1), np.int64(1), np.int64(1), np.int64(1), np.int64(1), np.int64(1), np.int64(1), np.int64(1), np.int64(1), np.int64(1), np.int64(1), np.int64(1), np.int64(1), np.int64(1), np.int64(1), np.int64(1), np.int64(1), np.int64(1), np.int64(1), np.int64(1)]), (np.float64(1.1145578231292517), np.float64(1.2770975056689342), np.int64(59), np.float32(0.32397005), [np.int64(1), np.int64(1), np.int64(1), np.int64(1), np.int64(1), np.int64(1), np.int64(1), np.int64(1), np.int64(1), np.int64(1), np.int64(1), np.int64(1), np.int64(1), np.int64(1)]), (np.float64(0.9287981859410431), np.float64(1.1145578231292517), np.int64(33), np.float32(0.4570338), [np.int64(1), np.int64(1), np.int64(1), np.int64(1), np.int64(1), np.int64(1), np.int64(1), np.int64(1), np.int64(1), np.int64(1), np.int64(1), np.int64(1), np.int64(1), np.int64(1), np.int64(1), np.int64(1)]), (np.float64(0.8243083900226758), np.float64(1.18421768707483), np.int64(48), np.float32(0.61375594), [np.int64(1), np.int64(1), np.int64(1), np.int64(1), np.int64(1), np.int64(1), np.int64(1), np.int64(1), np.int64(1), np.int64(1), np.int64(1), np.int64(1), np.int64(1), np.int64(1), np.int64(1), np.int64(1), np.int64(1), np.int64(1), np.int64(1), np.int64(1), np.int64(1), np.int64(1), np.int64(1), np.int64(1), np.int64(1), np.int64(1), np.int64(1), np.int64(1), np.int64(1), np.int64(-2), np.int64(-2)]), (np.float64(0.626938775510204), np.float64(0.8475283446712019), np.int64(31), np.float32(0.48784307), [np.int64(1), np.int64(1), np.int64(1), np.int64(1), np.int64(1), np.int64(1), np.int64(1), np.int64(0), np.int64(0), np.int64(0), np.int64(0), np.int64(0), np.int64(0), np.int64(0), np.int64(0), np.int64(0), np.int64(1), np.int64(1), np.int64(1)]), (np.float64(0.5804988662131519), np.float64(0.7314285714285714), np.int64(49), np.float32(0.5156158), [np.int64(1), np.int64(1), np.int64(1), np.int64(1), np.int64(1), np.int64(1), np.int64(1), np.int64(1), np.int64(1), np.int64(1), np.int64(1), np.int64(1), np.int64(1)]), (np.float64(0.06965986394557823), np.float64(0.4179591836734694), np.int64(33), np.float32(0.34363976), [np.int64(-1), np.int64(-1), np.int64(0), np.int64(0), np.int64(0), np.int64(0), np.int64(0), np.int64(0), np.int64(0), np.int64(1), np.int64(1), np.int64(1), np.int64(1), np.int64(-1), np.int64(-1), np.int64(-1), np.int64(-1), np.int64(-1), np.int64(-1), np.int64(-1), np.int64(-1), np.int64(-1), np.int64(0), np.int64(0), np.int64(0), np.int64(0), np.int64(0), np.int64(0), np.int64(1), np.int64(1)]), (np.float64(0.023219954648526078), np.float64(0.29024943310657597), np.int64(54), np.float32(0.6546947), [np.int64(1), np.int64(1), np.int64(1), np.int64(1), np.int64(1), np.int64(1), np.int64(1), np.int64(1), np.int64(1), np.int64(1), np.int64(1), np.int64(1), np.int64(1), np.int64(1), np.int64(1), np.int64(1), np.int64(1), np.int64(1), np.int64(1), np.int64(1), np.int64(1), np.int64(1), np.int64(1)]), (np.float64(9.699466666666666), np.float64(9.920056235827664), np.int64(33), np.float32(0.4663339), [np.int64(1), np.int64(1), np.int64(1), np.int64(1), np.int64(1), np.int64(1), np.int64(1), np.int64(1), np.int64(1), np.int64(1), np.int64(1), np.int64(1), np.int64(1), np.int64(1), np.int64(1), np.int64(1), np.int64(1), np.int64(1), np.int64(1)]), (np.float64(1.3699773242630386), np.float64(1.5209070294784581), np.int64(35), np.float32(0.4290744), [np.int64(1), np.int64(1), np.int64(1), np.int64(1), np.int64(1), np.int64(1), np.int64(1), np.int64(1), np.int64(1), np.int64(1), np.int64(1), np.int64(1), np.int64(1)]), (np.float64(3.0779278911564627), np.float64(3.228857596371882), np.int64(35), np.float32(0.39610636), [np.int64(1), np.int64(1), np.int64(1), np.int64(1), np.int64(1), np.int64(1), np.int64(1), np.int64(1), np.int64(1), np.int64(1), np.int64(1), np.int64(1), np.int64(1)]), (np.float64(1.7531065759637188), np.float64(1.9040362811791383), np.int64(35), np.float32(0.38967264), [np.int64(1), np.int64(1), np.int64(1), np.int64(1), np.int64(1), np.int64(1), np.int64(1), np.int64(1), np.int64(1), np.int64(1), np.int64(1), np.int64(1), np.int64(1)]), (np.float64(7.992799999999999), np.float64(8.271439455782312), np.int64(52), np.float32(0.3331678), [np.int64(1), np.int64(1), np.int64(1), np.int64(1), np.int64(1), np.int64(1), np.int64(1), np.int64(1), np.int64(1), np.int64(1), np.int64(1), np.int64(1), np.int64(1), np.int64(1), np.int64(1), np.int64(1), np.int64(1), np.int64(1), np.int64(1), np.int64(1), np.int64(1), np.int64(1), np.int64(1), np.int64(1)]), (np.float64(2.1723496598639453), np.float64(2.323279365079365), np.int64(52), np.float32(0.32611558), [np.int64(1), np.int64(1), np.int64(1), np.int64(1), np.int64(1), np.int64(1), np.int64(1), np.int64(1), np.int64(1), np.int64(1), np.int64(1), np.int64(1), np.int64(1)])]\n"
     ]
    }
   ],
   "source": [
    "# Reemplaza con la ruta de tu archivo de audio\n",
    "audio_file_path = \"2test.wav\"\n",
    "\n",
    "# Realiza la predicción\n",
    "model_output, midi_data, note_events = predict(audio_file_path, ICASSP_2022_MODEL_PATH)\n",
    "\n",
    "# Los resultados incluyen:\n",
    "# midi_data: El archivo MIDI transcrito.\n",
    "# note_events: Una lista de eventos de notas (frecuencia, inicio, fin, etc.).\n",
    "print(note_events)"
   ]
  },
  {
   "cell_type": "code",
   "execution_count": 3,
   "id": "d8255e5f",
   "metadata": {},
   "outputs": [
    {
     "name": "stdout",
     "output_type": "stream",
     "text": [
      "[np.int64(64), np.int64(61), np.int64(45), np.int64(33), np.int64(45), np.int64(33), np.int64(45), np.int64(33), np.int64(63), np.int64(63), np.int64(47), np.int64(38), np.int64(64), np.int64(48), np.int64(67), np.int64(45), np.int64(48), np.int64(38), np.int64(67), np.int64(45), np.int64(50), np.int64(45), np.int64(64), np.int64(48), np.int64(36), np.int64(67), np.int64(55), np.int64(48), np.int64(36), np.int64(36), np.int64(36), np.int64(36), np.int64(67), np.int64(48), np.int64(47), np.int64(33), np.int64(47), np.int64(47), np.int64(81), np.int64(69), np.int64(47), np.int64(33), np.int64(33), np.int64(67), np.int64(33), np.int64(80), np.int64(68), np.int64(66), np.int64(47), np.int64(47), np.int64(64), np.int64(47), np.int64(65), np.int64(47), np.int64(47), np.int64(59), np.int64(33), np.int64(48), np.int64(31), np.int64(49), np.int64(33), np.int64(54), np.int64(33), np.int64(35), np.int64(35), np.int64(35), np.int64(52), np.int64(52)]\n"
     ]
    }
   ],
   "source": [
    "# Extraer solo las notas MIDI de la lista\n",
    "midi_notes = [event[2] for event in note_events]\n",
    "print(midi_notes)"
   ]
  },
  {
   "cell_type": "code",
   "execution_count": 4,
   "id": "0113a2e9",
   "metadata": {},
   "outputs": [
    {
     "name": "stdout",
     "output_type": "stream",
     "text": [
      "[(72, 5)]\n"
     ]
    }
   ],
   "source": [
    "from collections import Counter\n",
    "\n",
    "# Usamos la lista 'midi_notes' que extrajimos en el paso anterior\n",
    "midi_notes = [58, 46, 46, 58, 41, 41, 65, 55, 72, 60, 76, 79, 72, 56, 56, 80, 76, 45, 73, 79, 76, 72, 57, 79, 72, 60, 45, 79, 76, 72, 53, 76, 70, 77, 77, 82, 56]\n",
    "\n",
    "# Contar la frecuencia de cada nota\n",
    "note_counts = Counter(midi_notes)\n",
    "\n",
    "# Obtener la nota más común\n",
    "most_common_note = note_counts.most_common(1)\n",
    "\n",
    "print(most_common_note)\n",
    "# Resultado: [(76, 5)] -> La nota 76 se repitió 5 veces."
   ]
  },
  {
   "cell_type": "code",
   "execution_count": 5,
   "id": "e2702a47",
   "metadata": {},
   "outputs": [],
   "source": [
    "# Mapeo de números de pitch class a nombres de notas\n",
    "PITCH_CLASSES = [\n",
    "    \"C\", \"C#\", \"D\", \"D#\", \"E\", \"F\", \n",
    "    \"F#\", \"G\", \"G#\", \"A\", \"A#\", \"B\"\n",
    "]"
   ]
  },
  {
   "cell_type": "code",
   "execution_count": 6,
   "id": "ea3abafa",
   "metadata": {},
   "outputs": [
    {
     "name": "stdout",
     "output_type": "stream",
     "text": [
      "La nota MIDI más común es: [(72, 5)] (aparece 5 veces)\n",
      "Su pitch class es: C\n"
     ]
    }
   ],
   "source": [
    "# 5. Convertir el número MIDI a pitch class\n",
    "pitch_class_number = most_common_note[0][0] % 12\n",
    "pitch_class_name = PITCH_CLASSES[pitch_class_number]\n",
    "\n",
    "print(f\"La nota MIDI más común es: {most_common_note} (aparece {most_common_note[0][1]} veces)\")\n",
    "print(f\"Su pitch class es: {pitch_class_name}\")"
   ]
  },
  {
   "cell_type": "markdown",
   "id": "5d4a0c76",
   "metadata": {},
   "source": [
    "---"
   ]
  },
  {
   "cell_type": "code",
   "execution_count": 7,
   "id": "8529c5bd",
   "metadata": {},
   "outputs": [
    {
     "name": "stdout",
     "output_type": "stream",
     "text": [
      "Las 5 notas más comunes son:\n",
      "  - Nota: A (MIDI: 33) | Frecuencia: 10 veces\n",
      "  - Nota: B (MIDI: 47) | Frecuencia: 10 veces\n",
      "  - Nota: A (MIDI: 45) | Frecuencia: 6 veces\n",
      "  - Nota: C (MIDI: 48) | Frecuencia: 6 veces\n",
      "  - Nota: G (MIDI: 67) | Frecuencia: 5 veces\n"
     ]
    }
   ],
   "source": [
    "k = 5 # number of most common notes\n",
    "\n",
    "# Extract MIDI numbers from the note events\n",
    "midi_notes = [int(event[2]) for event in note_events]\n",
    "\n",
    "# Count the frequency of each MIDI note\n",
    "note_counts = Counter(midi_notes)\n",
    "\n",
    "# Get the top k most common notes\n",
    "top_k_notes = note_counts.most_common(k)\n",
    "\n",
    "results = []\n",
    "print(f\"Las {k} notas más comunes son:\")\n",
    "for note_midi, count in top_k_notes:\n",
    "    # Convert MIDI number to pitch class\n",
    "    pitch_class_number = note_midi % 12\n",
    "    pitch_class_name = PITCH_CLASSES[pitch_class_number]\n",
    "    \n",
    "    results.append((pitch_class_name, note_midi, count))\n",
    "    print(f\"  - Nota: {pitch_class_name} (MIDI: {note_midi}) | Frecuencia: {count} veces\")\n",
    "    \n"
   ]
  },
  {
   "cell_type": "code",
   "execution_count": 14,
   "id": "4abd34e4",
   "metadata": {},
   "outputs": [],
   "source": [
    "def find_chord_from_notes(notes, just_thirds=False):\n",
    "    \"\"\"\n",
    "    Identifies a major or minor chord from a list of notes.\n",
    "\n",
    "    Args:\n",
    "        notes (list): A list of three MIDI numbers.\n",
    "\n",
    "    Returns:\n",
    "        str: The name of the chord if a match is found, otherwise \"No match\".\n",
    "    \"\"\"\n",
    "    # Sort notes for consistent interval calculation\n",
    "    notes.sort()\n",
    "    \n",
    "    root_note = notes[0]\n",
    "    second_note = notes[1]\n",
    "    if not just_thirds: third_note = notes[2]\n",
    "\n",
    "    # Calculate intervals in half-steps (semitones)\n",
    "    interval_1 = second_note - root_note\n",
    "    if not just_thirds: interval_2 = third_note - second_note\n",
    "\n",
    "    if not just_thirds: \n",
    "        # Check for a major chord (4, 3)\n",
    "        if interval_1 == 4 and interval_2 == 3:\n",
    "            return f\"{get_pitch_class_name(root_note)} Major\"\n",
    "\n",
    "        # Check for a minor chord (3, 4)\n",
    "        if interval_1 == 3 and interval_2 == 4:\n",
    "            return f\"{get_pitch_class_name(root_note)} Minor\"\n",
    "    else:\n",
    "        # Check for a major chord (4, 3)\n",
    "        if interval_1 == 4:\n",
    "            return f\"{get_pitch_class_name(root_note)} Major\"\n",
    "\n",
    "        # Check for a minor chord (3, 4)\n",
    "        if interval_1 == 3:\n",
    "            return f\"{get_pitch_class_name(root_note)} Minor\"\n",
    "\n",
    "    return None\n",
    "\n",
    "def get_pitch_class_name(midi_num):\n",
    "    \"\"\"Converts a MIDI number to its pitch class name.\"\"\"\n",
    "    PITCH_CLASSES = [\"C\", \"C#\", \"D\", \"D#\", \"E\", \"F\", \n",
    "                     \"F#\", \"G\", \"G#\", \"A\", \"A#\", \"B\"]\n",
    "    return PITCH_CLASSES[midi_num % 12]"
   ]
  },
  {
   "cell_type": "code",
   "execution_count": 9,
   "id": "e69608ee",
   "metadata": {},
   "outputs": [
    {
     "data": {
      "text/plain": [
       "[('A', 33, 10), ('B', 47, 10), ('A', 45, 6), ('C', 48, 6), ('G', 67, 5)]"
      ]
     },
     "execution_count": 9,
     "metadata": {},
     "output_type": "execute_result"
    }
   ],
   "source": [
    "results"
   ]
  },
  {
   "cell_type": "markdown",
   "id": "b413f156",
   "metadata": {},
   "source": [
    "---\n",
    "## Create Triplets"
   ]
  },
  {
   "cell_type": "code",
   "execution_count": 10,
   "id": "a3149baa",
   "metadata": {},
   "outputs": [
    {
     "name": "stdout",
     "output_type": "stream",
     "text": [
      "A: 33\n",
      "B: 47\n",
      "A: 45\n",
      "C: 48\n",
      "G: 67\n",
      "[33, 47, 45, 48, 67]\n"
     ]
    }
   ],
   "source": [
    "options = []\n",
    "for note, midi, n in results:\n",
    "    print(note, midi, sep=\": \")\n",
    "    options.append(midi)\n",
    "print(options)"
   ]
  },
  {
   "cell_type": "code",
   "execution_count": 11,
   "id": "d4cdcaeb",
   "metadata": {},
   "outputs": [],
   "source": [
    "from itertools import combinations"
   ]
  },
  {
   "cell_type": "code",
   "execution_count": 12,
   "id": "cd30162f",
   "metadata": {},
   "outputs": [
    {
     "data": {
      "text/plain": [
       "[(33, 47, 45),\n",
       " (33, 47, 48),\n",
       " (33, 47, 67),\n",
       " (33, 45, 48),\n",
       " (33, 45, 67),\n",
       " (33, 48, 67),\n",
       " (47, 45, 48),\n",
       " (47, 45, 67),\n",
       " (47, 48, 67),\n",
       " (45, 48, 67)]"
      ]
     },
     "execution_count": 12,
     "metadata": {},
     "output_type": "execute_result"
    }
   ],
   "source": [
    "chord_options = list(combinations(options, 3))\n",
    "chord_options"
   ]
  },
  {
   "cell_type": "code",
   "execution_count": 13,
   "id": "eecfc754",
   "metadata": {},
   "outputs": [
    {
     "name": "stdout",
     "output_type": "stream",
     "text": [
      "Possible tonalities:\n"
     ]
    }
   ],
   "source": [
    "print(\"Possible tonalities:\")\n",
    "for chord in chord_options:\n",
    "    found_chord = find_chord_from_notes(list(chord))\n",
    "    if found_chord is not None:\n",
    "        print(found_chord)"
   ]
  },
  {
   "cell_type": "markdown",
   "id": "ab89d4f9",
   "metadata": {},
   "source": [
    "---\n",
    "## Create tuplets"
   ]
  },
  {
   "cell_type": "code",
   "execution_count": 15,
   "id": "92782afd",
   "metadata": {},
   "outputs": [
    {
     "data": {
      "text/plain": [
       "[(33, 47),\n",
       " (33, 45),\n",
       " (33, 48),\n",
       " (33, 67),\n",
       " (47, 45),\n",
       " (47, 48),\n",
       " (47, 67),\n",
       " (45, 48),\n",
       " (45, 67),\n",
       " (48, 67)]"
      ]
     },
     "execution_count": 15,
     "metadata": {},
     "output_type": "execute_result"
    }
   ],
   "source": [
    "thirds_options = list(combinations(options, 2))\n",
    "thirds_options"
   ]
  },
  {
   "cell_type": "code",
   "execution_count": 16,
   "id": "a4d138ee",
   "metadata": {},
   "outputs": [
    {
     "name": "stdout",
     "output_type": "stream",
     "text": [
      "Possible tonalities:\n",
      "A Minor\n"
     ]
    }
   ],
   "source": [
    "print(\"Possible tonalities:\")\n",
    "for third in thirds_options:\n",
    "    found_third = find_chord_from_notes(list(third), just_thirds=True)\n",
    "    if found_third is not None:\n",
    "        print(found_third)"
   ]
  }
 ],
 "metadata": {
  "kernelspec": {
   "display_name": ".venv",
   "language": "python",
   "name": "python3"
  },
  "language_info": {
   "codemirror_mode": {
    "name": "ipython",
    "version": 3
   },
   "file_extension": ".py",
   "mimetype": "text/x-python",
   "name": "python",
   "nbconvert_exporter": "python",
   "pygments_lexer": "ipython3",
   "version": "3.11.7"
  }
 },
 "nbformat": 4,
 "nbformat_minor": 5
}
